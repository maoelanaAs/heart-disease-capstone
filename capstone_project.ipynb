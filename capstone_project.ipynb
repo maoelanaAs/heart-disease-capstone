{
 "cells": [
  {
   "cell_type": "markdown",
   "metadata": {},
   "source": [
    "## **CAPSTONE PROJECT BENGKEL CODING DATA SCIENCE**\n",
    "\n",
    "### Prediksi Penyakit Jantung\n",
    "\n",
    "Project ini berisi tentang pemodelan untuk memprediksi penyakit jantung menggunakan dataset [Heart Disease](http://archive.ics.uci.edu/dataset/45/heart+disease) dan deployment menggunakan streamlit\n",
    "\n",
    "Project ini terdiri dari beberapa tahapan diantaranya:\n",
    "\n",
    "1. Pengumpulan Data\n",
    "2. Menelaah Data\n",
    "3. Validasi Data\n",
    "4. Menentukan Objek Data\n",
    "5. Membersihkan Data\n",
    "6. Konstruksi Data\n",
    "7. Pemodelan\n",
    "8. Evaluasi\n",
    "9. Deployment\n",
    "10. Kesimpulan\n"
   ]
  },
  {
   "cell_type": "markdown",
   "metadata": {},
   "source": [
    "### **1.Pengumpulan Data**\n"
   ]
  },
  {
   "cell_type": "markdown",
   "metadata": {},
   "source": [
    "Data yang digunakan adalah [hungarian.data](datasets\\hungarian.data)\n"
   ]
  },
  {
   "cell_type": "code",
   "execution_count": 1,
   "metadata": {},
   "outputs": [],
   "source": [
    "# Importing Libraries\n",
    "import pandas as pd\n",
    "import numpy as np\n",
    "import itertools"
   ]
  },
  {
   "cell_type": "code",
   "execution_count": 2,
   "metadata": {},
   "outputs": [
    {
     "data": {
      "text/plain": [
       "['1254 0 40 1 1 0 0',\n",
       " '-9 2 140 0 289 -9 -9 -9',\n",
       " '0 -9 -9 0 12 16 84 0',\n",
       " '0 0 0 0 150 18 -9 7',\n",
       " '172 86 200 110 140 86 0 0',\n",
       " '0 -9 26 20 -9 -9 -9 -9',\n",
       " '-9 -9 -9 -9 -9 -9 -9 12',\n",
       " '20 84 0 -9 -9 -9 -9 -9',\n",
       " '-9 -9 -9 -9 -9 1 1 1',\n",
       " '1 1 -9. -9. name']"
      ]
     },
     "execution_count": 2,
     "metadata": {},
     "output_type": "execute_result"
    }
   ],
   "source": [
    "# Importing the dataset\n",
    "dir = 'datasets/hungarian.data'\n",
    "with open(dir, encoding='Latin1') as file:\n",
    "    lines = [line.strip() for line in file]\n",
    "\n",
    "lines[0:10]"
   ]
  },
  {
   "cell_type": "markdown",
   "metadata": {},
   "source": [
    "### **2. Menelaah Data**\n"
   ]
  },
  {
   "cell_type": "code",
   "execution_count": 3,
   "metadata": {},
   "outputs": [
    {
     "data": {
      "text/plain": [
       "(294, 76)"
      ]
     },
     "execution_count": 3,
     "metadata": {},
     "output_type": "execute_result"
    }
   ],
   "source": [
    "data = itertools.takewhile( \n",
    "  lambda x: len(x) == 76, \n",
    "  (' '.join(lines[i:(i + 10)]).split() for i in range(0, len(lines), 10))\n",
    ")\n",
    "\n",
    "# Converting the data into a DataFrame\n",
    "df = pd.DataFrame(data)\n",
    "df.shape"
   ]
  },
  {
   "cell_type": "markdown",
   "metadata": {},
   "source": [
    "Dataset ini terdiri dari 294 baris dan 76 kolom\n"
   ]
  },
  {
   "cell_type": "code",
   "execution_count": 4,
   "metadata": {},
   "outputs": [
    {
     "data": {
      "text/html": [
       "<div>\n",
       "<style scoped>\n",
       "    .dataframe tbody tr th:only-of-type {\n",
       "        vertical-align: middle;\n",
       "    }\n",
       "\n",
       "    .dataframe tbody tr th {\n",
       "        vertical-align: top;\n",
       "    }\n",
       "\n",
       "    .dataframe thead th {\n",
       "        text-align: right;\n",
       "    }\n",
       "</style>\n",
       "<table border=\"1\" class=\"dataframe\">\n",
       "  <thead>\n",
       "    <tr style=\"text-align: right;\">\n",
       "      <th></th>\n",
       "      <th>0</th>\n",
       "      <th>1</th>\n",
       "      <th>2</th>\n",
       "      <th>3</th>\n",
       "      <th>4</th>\n",
       "      <th>5</th>\n",
       "      <th>6</th>\n",
       "      <th>7</th>\n",
       "      <th>8</th>\n",
       "      <th>9</th>\n",
       "      <th>...</th>\n",
       "      <th>66</th>\n",
       "      <th>67</th>\n",
       "      <th>68</th>\n",
       "      <th>69</th>\n",
       "      <th>70</th>\n",
       "      <th>71</th>\n",
       "      <th>72</th>\n",
       "      <th>73</th>\n",
       "      <th>74</th>\n",
       "      <th>75</th>\n",
       "    </tr>\n",
       "  </thead>\n",
       "  <tbody>\n",
       "    <tr>\n",
       "      <th>0</th>\n",
       "      <td>1254</td>\n",
       "      <td>0</td>\n",
       "      <td>40</td>\n",
       "      <td>1</td>\n",
       "      <td>1</td>\n",
       "      <td>0</td>\n",
       "      <td>0</td>\n",
       "      <td>-9</td>\n",
       "      <td>2</td>\n",
       "      <td>140</td>\n",
       "      <td>...</td>\n",
       "      <td>-9</td>\n",
       "      <td>-9</td>\n",
       "      <td>1</td>\n",
       "      <td>1</td>\n",
       "      <td>1</td>\n",
       "      <td>1</td>\n",
       "      <td>1</td>\n",
       "      <td>-9.</td>\n",
       "      <td>-9.</td>\n",
       "      <td>name</td>\n",
       "    </tr>\n",
       "    <tr>\n",
       "      <th>1</th>\n",
       "      <td>1255</td>\n",
       "      <td>0</td>\n",
       "      <td>49</td>\n",
       "      <td>0</td>\n",
       "      <td>1</td>\n",
       "      <td>0</td>\n",
       "      <td>0</td>\n",
       "      <td>-9</td>\n",
       "      <td>3</td>\n",
       "      <td>160</td>\n",
       "      <td>...</td>\n",
       "      <td>-9</td>\n",
       "      <td>-9</td>\n",
       "      <td>1</td>\n",
       "      <td>1</td>\n",
       "      <td>1</td>\n",
       "      <td>1</td>\n",
       "      <td>1</td>\n",
       "      <td>-9.</td>\n",
       "      <td>-9.</td>\n",
       "      <td>name</td>\n",
       "    </tr>\n",
       "    <tr>\n",
       "      <th>2</th>\n",
       "      <td>1256</td>\n",
       "      <td>0</td>\n",
       "      <td>37</td>\n",
       "      <td>1</td>\n",
       "      <td>1</td>\n",
       "      <td>0</td>\n",
       "      <td>0</td>\n",
       "      <td>-9</td>\n",
       "      <td>2</td>\n",
       "      <td>130</td>\n",
       "      <td>...</td>\n",
       "      <td>-9</td>\n",
       "      <td>-9</td>\n",
       "      <td>1</td>\n",
       "      <td>1</td>\n",
       "      <td>1</td>\n",
       "      <td>1</td>\n",
       "      <td>1</td>\n",
       "      <td>-9.</td>\n",
       "      <td>-9.</td>\n",
       "      <td>name</td>\n",
       "    </tr>\n",
       "    <tr>\n",
       "      <th>3</th>\n",
       "      <td>1257</td>\n",
       "      <td>0</td>\n",
       "      <td>48</td>\n",
       "      <td>0</td>\n",
       "      <td>1</td>\n",
       "      <td>1</td>\n",
       "      <td>1</td>\n",
       "      <td>-9</td>\n",
       "      <td>4</td>\n",
       "      <td>138</td>\n",
       "      <td>...</td>\n",
       "      <td>2</td>\n",
       "      <td>-9</td>\n",
       "      <td>1</td>\n",
       "      <td>1</td>\n",
       "      <td>1</td>\n",
       "      <td>1</td>\n",
       "      <td>1</td>\n",
       "      <td>-9.</td>\n",
       "      <td>-9.</td>\n",
       "      <td>name</td>\n",
       "    </tr>\n",
       "    <tr>\n",
       "      <th>4</th>\n",
       "      <td>1258</td>\n",
       "      <td>0</td>\n",
       "      <td>54</td>\n",
       "      <td>1</td>\n",
       "      <td>1</td>\n",
       "      <td>0</td>\n",
       "      <td>1</td>\n",
       "      <td>-9</td>\n",
       "      <td>3</td>\n",
       "      <td>150</td>\n",
       "      <td>...</td>\n",
       "      <td>1</td>\n",
       "      <td>-9</td>\n",
       "      <td>1</td>\n",
       "      <td>1</td>\n",
       "      <td>1</td>\n",
       "      <td>1</td>\n",
       "      <td>1</td>\n",
       "      <td>-9.</td>\n",
       "      <td>-9.</td>\n",
       "      <td>name</td>\n",
       "    </tr>\n",
       "  </tbody>\n",
       "</table>\n",
       "<p>5 rows × 76 columns</p>\n",
       "</div>"
      ],
      "text/plain": [
       "     0  1   2  3  4  5  6   7  8    9   ...  66  67 68 69 70 71 72   73   74  \\\n",
       "0  1254  0  40  1  1  0  0  -9  2  140  ...  -9  -9  1  1  1  1  1  -9.  -9.   \n",
       "1  1255  0  49  0  1  0  0  -9  3  160  ...  -9  -9  1  1  1  1  1  -9.  -9.   \n",
       "2  1256  0  37  1  1  0  0  -9  2  130  ...  -9  -9  1  1  1  1  1  -9.  -9.   \n",
       "3  1257  0  48  0  1  1  1  -9  4  138  ...   2  -9  1  1  1  1  1  -9.  -9.   \n",
       "4  1258  0  54  1  1  0  1  -9  3  150  ...   1  -9  1  1  1  1  1  -9.  -9.   \n",
       "\n",
       "     75  \n",
       "0  name  \n",
       "1  name  \n",
       "2  name  \n",
       "3  name  \n",
       "4  name  \n",
       "\n",
       "[5 rows x 76 columns]"
      ]
     },
     "execution_count": 4,
     "metadata": {},
     "output_type": "execute_result"
    }
   ],
   "source": [
    "df.head()"
   ]
  },
  {
   "cell_type": "markdown",
   "metadata": {},
   "source": [
    "Dari dokumentasi dataset, disebutkan bahwa:\n",
    "\n",
    "- kolom pertama(#0) adalah ID pasien\n",
    "- kolom terakhir(#76) adalah nama terakhir pasien\n",
    "\n",
    "Kedua kolom tersebut merupakan data dummy oleh karena itu hapus kolom pertama dan terakhir dari dataset.\n"
   ]
  },
  {
   "cell_type": "code",
   "execution_count": 5,
   "metadata": {},
   "outputs": [
    {
     "data": {
      "text/html": [
       "<div>\n",
       "<style scoped>\n",
       "    .dataframe tbody tr th:only-of-type {\n",
       "        vertical-align: middle;\n",
       "    }\n",
       "\n",
       "    .dataframe tbody tr th {\n",
       "        vertical-align: top;\n",
       "    }\n",
       "\n",
       "    .dataframe thead th {\n",
       "        text-align: right;\n",
       "    }\n",
       "</style>\n",
       "<table border=\"1\" class=\"dataframe\">\n",
       "  <thead>\n",
       "    <tr style=\"text-align: right;\">\n",
       "      <th></th>\n",
       "      <th>1</th>\n",
       "      <th>2</th>\n",
       "      <th>3</th>\n",
       "      <th>4</th>\n",
       "      <th>5</th>\n",
       "      <th>6</th>\n",
       "      <th>7</th>\n",
       "      <th>8</th>\n",
       "      <th>9</th>\n",
       "      <th>10</th>\n",
       "      <th>...</th>\n",
       "      <th>65</th>\n",
       "      <th>66</th>\n",
       "      <th>67</th>\n",
       "      <th>68</th>\n",
       "      <th>69</th>\n",
       "      <th>70</th>\n",
       "      <th>71</th>\n",
       "      <th>72</th>\n",
       "      <th>73</th>\n",
       "      <th>74</th>\n",
       "    </tr>\n",
       "  </thead>\n",
       "  <tbody>\n",
       "    <tr>\n",
       "      <th>0</th>\n",
       "      <td>0</td>\n",
       "      <td>40</td>\n",
       "      <td>1</td>\n",
       "      <td>1</td>\n",
       "      <td>0</td>\n",
       "      <td>0</td>\n",
       "      <td>-9</td>\n",
       "      <td>2</td>\n",
       "      <td>140</td>\n",
       "      <td>0</td>\n",
       "      <td>...</td>\n",
       "      <td>-9</td>\n",
       "      <td>-9</td>\n",
       "      <td>-9</td>\n",
       "      <td>1</td>\n",
       "      <td>1</td>\n",
       "      <td>1</td>\n",
       "      <td>1</td>\n",
       "      <td>1</td>\n",
       "      <td>-9.</td>\n",
       "      <td>-9.</td>\n",
       "    </tr>\n",
       "    <tr>\n",
       "      <th>1</th>\n",
       "      <td>0</td>\n",
       "      <td>49</td>\n",
       "      <td>0</td>\n",
       "      <td>1</td>\n",
       "      <td>0</td>\n",
       "      <td>0</td>\n",
       "      <td>-9</td>\n",
       "      <td>3</td>\n",
       "      <td>160</td>\n",
       "      <td>1</td>\n",
       "      <td>...</td>\n",
       "      <td>-9</td>\n",
       "      <td>-9</td>\n",
       "      <td>-9</td>\n",
       "      <td>1</td>\n",
       "      <td>1</td>\n",
       "      <td>1</td>\n",
       "      <td>1</td>\n",
       "      <td>1</td>\n",
       "      <td>-9.</td>\n",
       "      <td>-9.</td>\n",
       "    </tr>\n",
       "    <tr>\n",
       "      <th>2</th>\n",
       "      <td>0</td>\n",
       "      <td>37</td>\n",
       "      <td>1</td>\n",
       "      <td>1</td>\n",
       "      <td>0</td>\n",
       "      <td>0</td>\n",
       "      <td>-9</td>\n",
       "      <td>2</td>\n",
       "      <td>130</td>\n",
       "      <td>0</td>\n",
       "      <td>...</td>\n",
       "      <td>-9</td>\n",
       "      <td>-9</td>\n",
       "      <td>-9</td>\n",
       "      <td>1</td>\n",
       "      <td>1</td>\n",
       "      <td>1</td>\n",
       "      <td>1</td>\n",
       "      <td>1</td>\n",
       "      <td>-9.</td>\n",
       "      <td>-9.</td>\n",
       "    </tr>\n",
       "    <tr>\n",
       "      <th>3</th>\n",
       "      <td>0</td>\n",
       "      <td>48</td>\n",
       "      <td>0</td>\n",
       "      <td>1</td>\n",
       "      <td>1</td>\n",
       "      <td>1</td>\n",
       "      <td>-9</td>\n",
       "      <td>4</td>\n",
       "      <td>138</td>\n",
       "      <td>0</td>\n",
       "      <td>...</td>\n",
       "      <td>-9</td>\n",
       "      <td>2</td>\n",
       "      <td>-9</td>\n",
       "      <td>1</td>\n",
       "      <td>1</td>\n",
       "      <td>1</td>\n",
       "      <td>1</td>\n",
       "      <td>1</td>\n",
       "      <td>-9.</td>\n",
       "      <td>-9.</td>\n",
       "    </tr>\n",
       "    <tr>\n",
       "      <th>4</th>\n",
       "      <td>0</td>\n",
       "      <td>54</td>\n",
       "      <td>1</td>\n",
       "      <td>1</td>\n",
       "      <td>0</td>\n",
       "      <td>1</td>\n",
       "      <td>-9</td>\n",
       "      <td>3</td>\n",
       "      <td>150</td>\n",
       "      <td>0</td>\n",
       "      <td>...</td>\n",
       "      <td>-9</td>\n",
       "      <td>1</td>\n",
       "      <td>-9</td>\n",
       "      <td>1</td>\n",
       "      <td>1</td>\n",
       "      <td>1</td>\n",
       "      <td>1</td>\n",
       "      <td>1</td>\n",
       "      <td>-9.</td>\n",
       "      <td>-9.</td>\n",
       "    </tr>\n",
       "  </tbody>\n",
       "</table>\n",
       "<p>5 rows × 74 columns</p>\n",
       "</div>"
      ],
      "text/plain": [
       "  1   2  3  4  5  6   7  8    9  10  ...  65  66  67 68 69 70 71 72   73   74\n",
       "0  0  40  1  1  0  0  -9  2  140  0  ...  -9  -9  -9  1  1  1  1  1  -9.  -9.\n",
       "1  0  49  0  1  0  0  -9  3  160  1  ...  -9  -9  -9  1  1  1  1  1  -9.  -9.\n",
       "2  0  37  1  1  0  0  -9  2  130  0  ...  -9  -9  -9  1  1  1  1  1  -9.  -9.\n",
       "3  0  48  0  1  1  1  -9  4  138  0  ...  -9   2  -9  1  1  1  1  1  -9.  -9.\n",
       "4  0  54  1  1  0  1  -9  3  150  0  ...  -9   1  -9  1  1  1  1  1  -9.  -9.\n",
       "\n",
       "[5 rows x 74 columns]"
      ]
     },
     "execution_count": 5,
     "metadata": {},
     "output_type": "execute_result"
    }
   ],
   "source": [
    "df = df.drop(df.columns[0], axis=1)   # Menghapus kolom pertama\n",
    "df = df.iloc[:, :-1]                  # Menghapus kolom terakhir\n",
    "df.head()"
   ]
  },
  {
   "cell_type": "markdown",
   "metadata": {},
   "source": [
    "### **3. Validasi Data**\n"
   ]
  },
  {
   "cell_type": "markdown",
   "metadata": {},
   "source": [
    "Dalam dataset ini nilai -9.0 merupakan nilai NULL oleh karena itu ubah agar sesuai dengan kondisi tersebut\n"
   ]
  },
  {
   "cell_type": "code",
   "execution_count": 6,
   "metadata": {},
   "outputs": [
    {
     "name": "stdout",
     "output_type": "stream",
     "text": [
      "<class 'pandas.core.frame.DataFrame'>\n",
      "RangeIndex: 294 entries, 0 to 293\n",
      "Data columns (total 74 columns):\n",
      " #   Column  Non-Null Count  Dtype  \n",
      "---  ------  --------------  -----  \n",
      " 0   1       294 non-null    float64\n",
      " 1   2       294 non-null    float64\n",
      " 2   3       294 non-null    float64\n",
      " 3   4       294 non-null    float64\n",
      " 4   5       294 non-null    float64\n",
      " 5   6       294 non-null    float64\n",
      " 6   7       294 non-null    float64\n",
      " 7   8       294 non-null    float64\n",
      " 8   9       294 non-null    float64\n",
      " 9   10      294 non-null    float64\n",
      " 10  11      294 non-null    float64\n",
      " 11  12      294 non-null    float64\n",
      " 12  13      294 non-null    float64\n",
      " 13  14      294 non-null    float64\n",
      " 14  15      294 non-null    float64\n",
      " 15  16      294 non-null    float64\n",
      " 16  17      294 non-null    float64\n",
      " 17  18      294 non-null    float64\n",
      " 18  19      294 non-null    float64\n",
      " 19  20      294 non-null    float64\n",
      " 20  21      294 non-null    float64\n",
      " 21  22      294 non-null    float64\n",
      " 22  23      294 non-null    float64\n",
      " 23  24      294 non-null    float64\n",
      " 24  25      294 non-null    float64\n",
      " 25  26      294 non-null    float64\n",
      " 26  27      294 non-null    float64\n",
      " 27  28      294 non-null    float64\n",
      " 28  29      294 non-null    float64\n",
      " 29  30      294 non-null    float64\n",
      " 30  31      294 non-null    float64\n",
      " 31  32      294 non-null    float64\n",
      " 32  33      294 non-null    float64\n",
      " 33  34      294 non-null    float64\n",
      " 34  35      294 non-null    float64\n",
      " 35  36      294 non-null    float64\n",
      " 36  37      294 non-null    float64\n",
      " 37  38      294 non-null    float64\n",
      " 38  39      294 non-null    float64\n",
      " 39  40      294 non-null    float64\n",
      " 40  41      294 non-null    float64\n",
      " 41  42      294 non-null    float64\n",
      " 42  43      294 non-null    float64\n",
      " 43  44      294 non-null    float64\n",
      " 44  45      294 non-null    float64\n",
      " 45  46      294 non-null    float64\n",
      " 46  47      294 non-null    float64\n",
      " 47  48      294 non-null    float64\n",
      " 48  49      294 non-null    float64\n",
      " 49  50      294 non-null    float64\n",
      " 50  51      294 non-null    float64\n",
      " 51  52      294 non-null    float64\n",
      " 52  53      294 non-null    float64\n",
      " 53  54      294 non-null    float64\n",
      " 54  55      294 non-null    float64\n",
      " 55  56      294 non-null    float64\n",
      " 56  57      294 non-null    float64\n",
      " 57  58      294 non-null    float64\n",
      " 58  59      294 non-null    float64\n",
      " 59  60      294 non-null    float64\n",
      " 60  61      294 non-null    float64\n",
      " 61  62      294 non-null    float64\n",
      " 62  63      294 non-null    float64\n",
      " 63  64      294 non-null    float64\n",
      " 64  65      294 non-null    float64\n",
      " 65  66      294 non-null    float64\n",
      " 66  67      294 non-null    float64\n",
      " 67  68      294 non-null    float64\n",
      " 68  69      294 non-null    float64\n",
      " 69  70      294 non-null    float64\n",
      " 70  71      294 non-null    float64\n",
      " 71  72      294 non-null    float64\n",
      " 72  73      294 non-null    float64\n",
      " 73  74      294 non-null    float64\n",
      "dtypes: float64(74)\n",
      "memory usage: 170.1 KB\n"
     ]
    }
   ],
   "source": [
    "df = df.astype(float)                # Mengubah tipe data menjadi float\n",
    "df.info()"
   ]
  },
  {
   "cell_type": "code",
   "execution_count": 7,
   "metadata": {},
   "outputs": [
    {
     "data": {
      "text/html": [
       "<div>\n",
       "<style scoped>\n",
       "    .dataframe tbody tr th:only-of-type {\n",
       "        vertical-align: middle;\n",
       "    }\n",
       "\n",
       "    .dataframe tbody tr th {\n",
       "        vertical-align: top;\n",
       "    }\n",
       "\n",
       "    .dataframe thead th {\n",
       "        text-align: right;\n",
       "    }\n",
       "</style>\n",
       "<table border=\"1\" class=\"dataframe\">\n",
       "  <thead>\n",
       "    <tr style=\"text-align: right;\">\n",
       "      <th></th>\n",
       "      <th>1</th>\n",
       "      <th>2</th>\n",
       "      <th>3</th>\n",
       "      <th>4</th>\n",
       "      <th>5</th>\n",
       "      <th>6</th>\n",
       "      <th>7</th>\n",
       "      <th>8</th>\n",
       "      <th>9</th>\n",
       "      <th>10</th>\n",
       "      <th>...</th>\n",
       "      <th>65</th>\n",
       "      <th>66</th>\n",
       "      <th>67</th>\n",
       "      <th>68</th>\n",
       "      <th>69</th>\n",
       "      <th>70</th>\n",
       "      <th>71</th>\n",
       "      <th>72</th>\n",
       "      <th>73</th>\n",
       "      <th>74</th>\n",
       "    </tr>\n",
       "  </thead>\n",
       "  <tbody>\n",
       "    <tr>\n",
       "      <th>0</th>\n",
       "      <td>0.0</td>\n",
       "      <td>40.0</td>\n",
       "      <td>1.0</td>\n",
       "      <td>1.0</td>\n",
       "      <td>0.0</td>\n",
       "      <td>0.0</td>\n",
       "      <td>NaN</td>\n",
       "      <td>2.0</td>\n",
       "      <td>140.0</td>\n",
       "      <td>0.0</td>\n",
       "      <td>...</td>\n",
       "      <td>NaN</td>\n",
       "      <td>NaN</td>\n",
       "      <td>NaN</td>\n",
       "      <td>1.0</td>\n",
       "      <td>1.0</td>\n",
       "      <td>1.0</td>\n",
       "      <td>1.0</td>\n",
       "      <td>1.0</td>\n",
       "      <td>NaN</td>\n",
       "      <td>NaN</td>\n",
       "    </tr>\n",
       "    <tr>\n",
       "      <th>1</th>\n",
       "      <td>0.0</td>\n",
       "      <td>49.0</td>\n",
       "      <td>0.0</td>\n",
       "      <td>1.0</td>\n",
       "      <td>0.0</td>\n",
       "      <td>0.0</td>\n",
       "      <td>NaN</td>\n",
       "      <td>3.0</td>\n",
       "      <td>160.0</td>\n",
       "      <td>1.0</td>\n",
       "      <td>...</td>\n",
       "      <td>NaN</td>\n",
       "      <td>NaN</td>\n",
       "      <td>NaN</td>\n",
       "      <td>1.0</td>\n",
       "      <td>1.0</td>\n",
       "      <td>1.0</td>\n",
       "      <td>1.0</td>\n",
       "      <td>1.0</td>\n",
       "      <td>NaN</td>\n",
       "      <td>NaN</td>\n",
       "    </tr>\n",
       "    <tr>\n",
       "      <th>2</th>\n",
       "      <td>0.0</td>\n",
       "      <td>37.0</td>\n",
       "      <td>1.0</td>\n",
       "      <td>1.0</td>\n",
       "      <td>0.0</td>\n",
       "      <td>0.0</td>\n",
       "      <td>NaN</td>\n",
       "      <td>2.0</td>\n",
       "      <td>130.0</td>\n",
       "      <td>0.0</td>\n",
       "      <td>...</td>\n",
       "      <td>NaN</td>\n",
       "      <td>NaN</td>\n",
       "      <td>NaN</td>\n",
       "      <td>1.0</td>\n",
       "      <td>1.0</td>\n",
       "      <td>1.0</td>\n",
       "      <td>1.0</td>\n",
       "      <td>1.0</td>\n",
       "      <td>NaN</td>\n",
       "      <td>NaN</td>\n",
       "    </tr>\n",
       "    <tr>\n",
       "      <th>3</th>\n",
       "      <td>0.0</td>\n",
       "      <td>48.0</td>\n",
       "      <td>0.0</td>\n",
       "      <td>1.0</td>\n",
       "      <td>1.0</td>\n",
       "      <td>1.0</td>\n",
       "      <td>NaN</td>\n",
       "      <td>4.0</td>\n",
       "      <td>138.0</td>\n",
       "      <td>0.0</td>\n",
       "      <td>...</td>\n",
       "      <td>NaN</td>\n",
       "      <td>2.0</td>\n",
       "      <td>NaN</td>\n",
       "      <td>1.0</td>\n",
       "      <td>1.0</td>\n",
       "      <td>1.0</td>\n",
       "      <td>1.0</td>\n",
       "      <td>1.0</td>\n",
       "      <td>NaN</td>\n",
       "      <td>NaN</td>\n",
       "    </tr>\n",
       "    <tr>\n",
       "      <th>4</th>\n",
       "      <td>0.0</td>\n",
       "      <td>54.0</td>\n",
       "      <td>1.0</td>\n",
       "      <td>1.0</td>\n",
       "      <td>0.0</td>\n",
       "      <td>1.0</td>\n",
       "      <td>NaN</td>\n",
       "      <td>3.0</td>\n",
       "      <td>150.0</td>\n",
       "      <td>0.0</td>\n",
       "      <td>...</td>\n",
       "      <td>NaN</td>\n",
       "      <td>1.0</td>\n",
       "      <td>NaN</td>\n",
       "      <td>1.0</td>\n",
       "      <td>1.0</td>\n",
       "      <td>1.0</td>\n",
       "      <td>1.0</td>\n",
       "      <td>1.0</td>\n",
       "      <td>NaN</td>\n",
       "      <td>NaN</td>\n",
       "    </tr>\n",
       "  </tbody>\n",
       "</table>\n",
       "<p>5 rows × 74 columns</p>\n",
       "</div>"
      ],
      "text/plain": [
       "    1     2    3    4    5    6   7    8      9    10  ...  65   66  67   68  \\\n",
       "0  0.0  40.0  1.0  1.0  0.0  0.0 NaN  2.0  140.0  0.0  ... NaN  NaN NaN  1.0   \n",
       "1  0.0  49.0  0.0  1.0  0.0  0.0 NaN  3.0  160.0  1.0  ... NaN  NaN NaN  1.0   \n",
       "2  0.0  37.0  1.0  1.0  0.0  0.0 NaN  2.0  130.0  0.0  ... NaN  NaN NaN  1.0   \n",
       "3  0.0  48.0  0.0  1.0  1.0  1.0 NaN  4.0  138.0  0.0  ... NaN  2.0 NaN  1.0   \n",
       "4  0.0  54.0  1.0  1.0  0.0  1.0 NaN  3.0  150.0  0.0  ... NaN  1.0 NaN  1.0   \n",
       "\n",
       "    69   70   71   72  73  74  \n",
       "0  1.0  1.0  1.0  1.0 NaN NaN  \n",
       "1  1.0  1.0  1.0  1.0 NaN NaN  \n",
       "2  1.0  1.0  1.0  1.0 NaN NaN  \n",
       "3  1.0  1.0  1.0  1.0 NaN NaN  \n",
       "4  1.0  1.0  1.0  1.0 NaN NaN  \n",
       "\n",
       "[5 rows x 74 columns]"
      ]
     },
     "execution_count": 7,
     "metadata": {},
     "output_type": "execute_result"
    }
   ],
   "source": [
    "df.replace(-9.0, np.nan, inplace=True)  # Mengganti nilai -9.0 menjadi NaN\n",
    "df.head()"
   ]
  },
  {
   "cell_type": "markdown",
   "metadata": {},
   "source": [
    "### **4. Menentukan Objek Data**\n"
   ]
  },
  {
   "cell_type": "markdown",
   "metadata": {},
   "source": [
    "Dari kolom yang ada hanya 14 kolom yang digunakan sebagai fitur, yaitu:\n",
    "\n",
    "1. #3 (age)\n",
    "2. #4 (sex)\n",
    "3. #9 (cp)\n",
    "4. #10 (trestbps)\n",
    "5. #12 (chol)\n",
    "6. #16 (fbs)\n",
    "7. #19 (restecg)\n",
    "8. #32 (thalach)\n",
    "9. #38 (exang)\n",
    "10. #40 (oldpeak)\n",
    "11. #41 (slope)\n",
    "12. #44 (ca)\n",
    "13. #51 (thal)\n",
    "14. #58 (num/target)\n"
   ]
  },
  {
   "cell_type": "code",
   "execution_count": 8,
   "metadata": {},
   "outputs": [
    {
     "data": {
      "text/html": [
       "<div>\n",
       "<style scoped>\n",
       "    .dataframe tbody tr th:only-of-type {\n",
       "        vertical-align: middle;\n",
       "    }\n",
       "\n",
       "    .dataframe tbody tr th {\n",
       "        vertical-align: top;\n",
       "    }\n",
       "\n",
       "    .dataframe thead th {\n",
       "        text-align: right;\n",
       "    }\n",
       "</style>\n",
       "<table border=\"1\" class=\"dataframe\">\n",
       "  <thead>\n",
       "    <tr style=\"text-align: right;\">\n",
       "      <th></th>\n",
       "      <th>2</th>\n",
       "      <th>3</th>\n",
       "      <th>8</th>\n",
       "      <th>9</th>\n",
       "      <th>11</th>\n",
       "      <th>15</th>\n",
       "      <th>18</th>\n",
       "      <th>31</th>\n",
       "      <th>37</th>\n",
       "      <th>39</th>\n",
       "      <th>40</th>\n",
       "      <th>43</th>\n",
       "      <th>50</th>\n",
       "      <th>57</th>\n",
       "    </tr>\n",
       "  </thead>\n",
       "  <tbody>\n",
       "    <tr>\n",
       "      <th>0</th>\n",
       "      <td>40.0</td>\n",
       "      <td>1.0</td>\n",
       "      <td>2.0</td>\n",
       "      <td>140.0</td>\n",
       "      <td>289.0</td>\n",
       "      <td>0.0</td>\n",
       "      <td>0.0</td>\n",
       "      <td>172.0</td>\n",
       "      <td>0.0</td>\n",
       "      <td>0.0</td>\n",
       "      <td>NaN</td>\n",
       "      <td>NaN</td>\n",
       "      <td>NaN</td>\n",
       "      <td>0.0</td>\n",
       "    </tr>\n",
       "    <tr>\n",
       "      <th>1</th>\n",
       "      <td>49.0</td>\n",
       "      <td>0.0</td>\n",
       "      <td>3.0</td>\n",
       "      <td>160.0</td>\n",
       "      <td>180.0</td>\n",
       "      <td>0.0</td>\n",
       "      <td>0.0</td>\n",
       "      <td>156.0</td>\n",
       "      <td>0.0</td>\n",
       "      <td>1.0</td>\n",
       "      <td>2.0</td>\n",
       "      <td>NaN</td>\n",
       "      <td>NaN</td>\n",
       "      <td>1.0</td>\n",
       "    </tr>\n",
       "    <tr>\n",
       "      <th>2</th>\n",
       "      <td>37.0</td>\n",
       "      <td>1.0</td>\n",
       "      <td>2.0</td>\n",
       "      <td>130.0</td>\n",
       "      <td>283.0</td>\n",
       "      <td>0.0</td>\n",
       "      <td>1.0</td>\n",
       "      <td>98.0</td>\n",
       "      <td>0.0</td>\n",
       "      <td>0.0</td>\n",
       "      <td>NaN</td>\n",
       "      <td>NaN</td>\n",
       "      <td>NaN</td>\n",
       "      <td>0.0</td>\n",
       "    </tr>\n",
       "    <tr>\n",
       "      <th>3</th>\n",
       "      <td>48.0</td>\n",
       "      <td>0.0</td>\n",
       "      <td>4.0</td>\n",
       "      <td>138.0</td>\n",
       "      <td>214.0</td>\n",
       "      <td>0.0</td>\n",
       "      <td>0.0</td>\n",
       "      <td>108.0</td>\n",
       "      <td>1.0</td>\n",
       "      <td>1.5</td>\n",
       "      <td>2.0</td>\n",
       "      <td>NaN</td>\n",
       "      <td>NaN</td>\n",
       "      <td>3.0</td>\n",
       "    </tr>\n",
       "    <tr>\n",
       "      <th>4</th>\n",
       "      <td>54.0</td>\n",
       "      <td>1.0</td>\n",
       "      <td>3.0</td>\n",
       "      <td>150.0</td>\n",
       "      <td>NaN</td>\n",
       "      <td>0.0</td>\n",
       "      <td>0.0</td>\n",
       "      <td>122.0</td>\n",
       "      <td>0.0</td>\n",
       "      <td>0.0</td>\n",
       "      <td>NaN</td>\n",
       "      <td>NaN</td>\n",
       "      <td>NaN</td>\n",
       "      <td>0.0</td>\n",
       "    </tr>\n",
       "  </tbody>\n",
       "</table>\n",
       "</div>"
      ],
      "text/plain": [
       "     2    3    8      9      11   15   18     31   37   39   40  43  50   57\n",
       "0  40.0  1.0  2.0  140.0  289.0  0.0  0.0  172.0  0.0  0.0  NaN NaN NaN  0.0\n",
       "1  49.0  0.0  3.0  160.0  180.0  0.0  0.0  156.0  0.0  1.0  2.0 NaN NaN  1.0\n",
       "2  37.0  1.0  2.0  130.0  283.0  0.0  1.0   98.0  0.0  0.0  NaN NaN NaN  0.0\n",
       "3  48.0  0.0  4.0  138.0  214.0  0.0  0.0  108.0  1.0  1.5  2.0 NaN NaN  3.0\n",
       "4  54.0  1.0  3.0  150.0    NaN  0.0  0.0  122.0  0.0  0.0  NaN NaN NaN  0.0"
      ]
     },
     "execution_count": 8,
     "metadata": {},
     "output_type": "execute_result"
    }
   ],
   "source": [
    "# memilih kolom yang akan digunakan\n",
    "df = df.iloc[:, [1, 2, 7, 8, 10, 14, 17, 30, 36, 38, 39, 42, 49, 56]]\n",
    "df.head()"
   ]
  },
  {
   "cell_type": "code",
   "execution_count": 9,
   "metadata": {},
   "outputs": [
    {
     "data": {
      "text/html": [
       "<div>\n",
       "<style scoped>\n",
       "    .dataframe tbody tr th:only-of-type {\n",
       "        vertical-align: middle;\n",
       "    }\n",
       "\n",
       "    .dataframe tbody tr th {\n",
       "        vertical-align: top;\n",
       "    }\n",
       "\n",
       "    .dataframe thead th {\n",
       "        text-align: right;\n",
       "    }\n",
       "</style>\n",
       "<table border=\"1\" class=\"dataframe\">\n",
       "  <thead>\n",
       "    <tr style=\"text-align: right;\">\n",
       "      <th></th>\n",
       "      <th>age</th>\n",
       "      <th>sex</th>\n",
       "      <th>cp</th>\n",
       "      <th>trestbps</th>\n",
       "      <th>chol</th>\n",
       "      <th>fbs</th>\n",
       "      <th>restecg</th>\n",
       "      <th>thalach</th>\n",
       "      <th>exang</th>\n",
       "      <th>oldpeak</th>\n",
       "      <th>slope</th>\n",
       "      <th>ca</th>\n",
       "      <th>thal</th>\n",
       "      <th>target</th>\n",
       "    </tr>\n",
       "  </thead>\n",
       "  <tbody>\n",
       "    <tr>\n",
       "      <th>0</th>\n",
       "      <td>40.0</td>\n",
       "      <td>1.0</td>\n",
       "      <td>2.0</td>\n",
       "      <td>140.0</td>\n",
       "      <td>289.0</td>\n",
       "      <td>0.0</td>\n",
       "      <td>0.0</td>\n",
       "      <td>172.0</td>\n",
       "      <td>0.0</td>\n",
       "      <td>0.0</td>\n",
       "      <td>NaN</td>\n",
       "      <td>NaN</td>\n",
       "      <td>NaN</td>\n",
       "      <td>0.0</td>\n",
       "    </tr>\n",
       "    <tr>\n",
       "      <th>1</th>\n",
       "      <td>49.0</td>\n",
       "      <td>0.0</td>\n",
       "      <td>3.0</td>\n",
       "      <td>160.0</td>\n",
       "      <td>180.0</td>\n",
       "      <td>0.0</td>\n",
       "      <td>0.0</td>\n",
       "      <td>156.0</td>\n",
       "      <td>0.0</td>\n",
       "      <td>1.0</td>\n",
       "      <td>2.0</td>\n",
       "      <td>NaN</td>\n",
       "      <td>NaN</td>\n",
       "      <td>1.0</td>\n",
       "    </tr>\n",
       "    <tr>\n",
       "      <th>2</th>\n",
       "      <td>37.0</td>\n",
       "      <td>1.0</td>\n",
       "      <td>2.0</td>\n",
       "      <td>130.0</td>\n",
       "      <td>283.0</td>\n",
       "      <td>0.0</td>\n",
       "      <td>1.0</td>\n",
       "      <td>98.0</td>\n",
       "      <td>0.0</td>\n",
       "      <td>0.0</td>\n",
       "      <td>NaN</td>\n",
       "      <td>NaN</td>\n",
       "      <td>NaN</td>\n",
       "      <td>0.0</td>\n",
       "    </tr>\n",
       "    <tr>\n",
       "      <th>3</th>\n",
       "      <td>48.0</td>\n",
       "      <td>0.0</td>\n",
       "      <td>4.0</td>\n",
       "      <td>138.0</td>\n",
       "      <td>214.0</td>\n",
       "      <td>0.0</td>\n",
       "      <td>0.0</td>\n",
       "      <td>108.0</td>\n",
       "      <td>1.0</td>\n",
       "      <td>1.5</td>\n",
       "      <td>2.0</td>\n",
       "      <td>NaN</td>\n",
       "      <td>NaN</td>\n",
       "      <td>3.0</td>\n",
       "    </tr>\n",
       "    <tr>\n",
       "      <th>4</th>\n",
       "      <td>54.0</td>\n",
       "      <td>1.0</td>\n",
       "      <td>3.0</td>\n",
       "      <td>150.0</td>\n",
       "      <td>NaN</td>\n",
       "      <td>0.0</td>\n",
       "      <td>0.0</td>\n",
       "      <td>122.0</td>\n",
       "      <td>0.0</td>\n",
       "      <td>0.0</td>\n",
       "      <td>NaN</td>\n",
       "      <td>NaN</td>\n",
       "      <td>NaN</td>\n",
       "      <td>0.0</td>\n",
       "    </tr>\n",
       "  </tbody>\n",
       "</table>\n",
       "</div>"
      ],
      "text/plain": [
       "    age  sex   cp  trestbps   chol  fbs  restecg  thalach  exang  oldpeak  \\\n",
       "0  40.0  1.0  2.0     140.0  289.0  0.0      0.0    172.0    0.0      0.0   \n",
       "1  49.0  0.0  3.0     160.0  180.0  0.0      0.0    156.0    0.0      1.0   \n",
       "2  37.0  1.0  2.0     130.0  283.0  0.0      1.0     98.0    0.0      0.0   \n",
       "3  48.0  0.0  4.0     138.0  214.0  0.0      0.0    108.0    1.0      1.5   \n",
       "4  54.0  1.0  3.0     150.0    NaN  0.0      0.0    122.0    0.0      0.0   \n",
       "\n",
       "   slope  ca  thal  target  \n",
       "0    NaN NaN   NaN     0.0  \n",
       "1    2.0 NaN   NaN     1.0  \n",
       "2    NaN NaN   NaN     0.0  \n",
       "3    2.0 NaN   NaN     3.0  \n",
       "4    NaN NaN   NaN     0.0  "
      ]
     },
     "execution_count": 9,
     "metadata": {},
     "output_type": "execute_result"
    }
   ],
   "source": [
    "# Mengganti nama kolom\n",
    "df.columns = [\n",
    "  'age', 'sex', 'cp', 'trestbps', 'chol',\n",
    "  'fbs', 'restecg', 'thalach', 'exang', \n",
    "  'oldpeak', 'slope', 'ca', 'thal', 'target'\n",
    "]\n",
    "\n",
    "df.head()"
   ]
  },
  {
   "cell_type": "markdown",
   "metadata": {},
   "source": [
    "### **5. Membersihkan Data**\n"
   ]
  },
  {
   "cell_type": "markdown",
   "metadata": {},
   "source": [
    "#### - Menghilangkan nilai null/missing value\n"
   ]
  },
  {
   "cell_type": "code",
   "execution_count": 10,
   "metadata": {},
   "outputs": [
    {
     "data": {
      "text/plain": [
       "age           0\n",
       "sex           0\n",
       "cp            0\n",
       "trestbps      1\n",
       "chol         23\n",
       "fbs           8\n",
       "restecg       1\n",
       "thalach       1\n",
       "exang         1\n",
       "oldpeak       0\n",
       "slope       190\n",
       "ca          290\n",
       "thal        266\n",
       "target        0\n",
       "dtype: int64"
      ]
     },
     "execution_count": 10,
     "metadata": {},
     "output_type": "execute_result"
    }
   ],
   "source": [
    "# Menghitung jumlah missing value pada setiap kolom\n",
    "df.isnull().sum()"
   ]
  },
  {
   "cell_type": "markdown",
   "metadata": {},
   "source": [
    "Dari 14 kolom terdapat beberapa kolom yang memiliki missing value, namun terdapat 3 kolom dengan missing value yang tinggi, yaitu:\n",
    "|Kolom|Missing Values|\n",
    "|:---:|:---------:|\n",
    "|slope|190/294 |\n",
    "|ca |290/294 |\n",
    "|thal |266/294 |\n",
    "\n",
    "Oleh karena itu lebih baik untuk menghapus kolom tersebut\n"
   ]
  },
  {
   "cell_type": "code",
   "execution_count": 11,
   "metadata": {},
   "outputs": [
    {
     "data": {
      "text/plain": [
       "age          0\n",
       "sex          0\n",
       "cp           0\n",
       "trestbps     1\n",
       "chol        23\n",
       "fbs          8\n",
       "restecg      1\n",
       "thalach      1\n",
       "exang        1\n",
       "oldpeak      0\n",
       "target       0\n",
       "dtype: int64"
      ]
     },
     "execution_count": 11,
     "metadata": {},
     "output_type": "execute_result"
    }
   ],
   "source": [
    "# Menghapus baris yang mengandung missing value tinggi\n",
    "df = df.drop(['slope', 'ca', 'thal'], axis=1)\n",
    "df.isnull().sum()"
   ]
  },
  {
   "cell_type": "markdown",
   "metadata": {},
   "source": [
    "Dan untuk kolom yang masih memiliki missing value maka diisi dengan nilai mean masing-masing kolom\n"
   ]
  },
  {
   "cell_type": "code",
   "execution_count": 12,
   "metadata": {},
   "outputs": [
    {
     "data": {
      "text/html": [
       "<div>\n",
       "<style scoped>\n",
       "    .dataframe tbody tr th:only-of-type {\n",
       "        vertical-align: middle;\n",
       "    }\n",
       "\n",
       "    .dataframe tbody tr th {\n",
       "        vertical-align: top;\n",
       "    }\n",
       "\n",
       "    .dataframe thead th {\n",
       "        text-align: right;\n",
       "    }\n",
       "</style>\n",
       "<table border=\"1\" class=\"dataframe\">\n",
       "  <thead>\n",
       "    <tr style=\"text-align: right;\">\n",
       "      <th></th>\n",
       "      <th>age</th>\n",
       "      <th>sex</th>\n",
       "      <th>cp</th>\n",
       "      <th>trestbps</th>\n",
       "      <th>chol</th>\n",
       "      <th>fbs</th>\n",
       "      <th>restecg</th>\n",
       "      <th>thalach</th>\n",
       "      <th>exang</th>\n",
       "      <th>oldpeak</th>\n",
       "      <th>target</th>\n",
       "    </tr>\n",
       "  </thead>\n",
       "  <tbody>\n",
       "    <tr>\n",
       "      <th>289</th>\n",
       "      <td>48.0</td>\n",
       "      <td>0.0</td>\n",
       "      <td>2.0</td>\n",
       "      <td>NaN</td>\n",
       "      <td>308.0</td>\n",
       "      <td>0.0</td>\n",
       "      <td>1.0</td>\n",
       "      <td>NaN</td>\n",
       "      <td>NaN</td>\n",
       "      <td>2.0</td>\n",
       "      <td>0.0</td>\n",
       "    </tr>\n",
       "  </tbody>\n",
       "</table>\n",
       "</div>"
      ],
      "text/plain": [
       "      age  sex   cp  trestbps   chol  fbs  restecg  thalach  exang  oldpeak  \\\n",
       "289  48.0  0.0  2.0       NaN  308.0  0.0      1.0      NaN    NaN      2.0   \n",
       "\n",
       "     target  \n",
       "289     0.0  "
      ]
     },
     "execution_count": 12,
     "metadata": {},
     "output_type": "execute_result"
    }
   ],
   "source": [
    "df[df['exang'].isnull()] "
   ]
  },
  {
   "cell_type": "code",
   "execution_count": 13,
   "metadata": {},
   "outputs": [],
   "source": [
    "meanTrestbps = df['trestbps'].dropna()\n",
    "meanChol = df['chol'].dropna()\n",
    "meanFbs = df['fbs'].dropna()\n",
    "meanRestcg = df['restecg'].dropna()\n",
    "meanThalach = df['thalach'].dropna()\n",
    "meanExang = df['exang'].dropna()\n",
    "\n",
    "meanTrestbps = meanTrestbps.astype(float)\n",
    "meanChol = meanChol.astype(float)\n",
    "meanFbs = meanFbs.astype(float)\n",
    "meanRestcg = meanRestcg.astype(float)\n",
    "meanThalach = meanThalach.astype(float)\n",
    "meanExang = meanExang.astype(float)\n",
    "\n",
    "# Menghitung mean dari setiap kolom\n",
    "meanTrestbps = round(meanTrestbps.mean())\n",
    "meanChol = round(meanChol.mean())\n",
    "meanFbs = round(meanFbs.mean())\n",
    "meanRestcg = round(meanRestcg.mean())\n",
    "meanThalach = round(meanThalach.mean())\n",
    "meanExang = round(meanExang.mean())"
   ]
  },
  {
   "cell_type": "code",
   "execution_count": 14,
   "metadata": {},
   "outputs": [
    {
     "data": {
      "text/plain": [
       "age         0\n",
       "sex         0\n",
       "cp          0\n",
       "trestbps    0\n",
       "chol        0\n",
       "fbs         0\n",
       "restecg     0\n",
       "thalach     0\n",
       "exang       0\n",
       "oldpeak     0\n",
       "target      0\n",
       "dtype: int64"
      ]
     },
     "execution_count": 14,
     "metadata": {},
     "output_type": "execute_result"
    }
   ],
   "source": [
    "fill_values = {\n",
    "  'trestbps': meanTrestbps, 'chol': meanChol, 'fbs': meanFbs,\n",
    "  'restecg': meanRestcg, 'thalach': meanThalach, 'exang': meanExang\n",
    "}\n",
    "\n",
    "# Mengisi missing value dengan mean masing-masing kolom\n",
    "df = df.fillna(value=fill_values)\n",
    "df.isnull().sum()"
   ]
  },
  {
   "cell_type": "markdown",
   "metadata": {},
   "source": [
    "#### - Menghilangkan nilai duplikat\n"
   ]
  },
  {
   "cell_type": "code",
   "execution_count": 15,
   "metadata": {},
   "outputs": [
    {
     "name": "stdout",
     "output_type": "stream",
     "text": [
      "Jumlah nilai duplikat:  1\n"
     ]
    }
   ],
   "source": [
    "# Menghitung nilai duplikat\n",
    "print(\"Jumlah nilai duplikat: \", df.duplicated().sum())"
   ]
  },
  {
   "cell_type": "code",
   "execution_count": 16,
   "metadata": {},
   "outputs": [
    {
     "data": {
      "text/html": [
       "<div>\n",
       "<style scoped>\n",
       "    .dataframe tbody tr th:only-of-type {\n",
       "        vertical-align: middle;\n",
       "    }\n",
       "\n",
       "    .dataframe tbody tr th {\n",
       "        vertical-align: top;\n",
       "    }\n",
       "\n",
       "    .dataframe thead th {\n",
       "        text-align: right;\n",
       "    }\n",
       "</style>\n",
       "<table border=\"1\" class=\"dataframe\">\n",
       "  <thead>\n",
       "    <tr style=\"text-align: right;\">\n",
       "      <th></th>\n",
       "      <th>age</th>\n",
       "      <th>sex</th>\n",
       "      <th>cp</th>\n",
       "      <th>trestbps</th>\n",
       "      <th>chol</th>\n",
       "      <th>fbs</th>\n",
       "      <th>restecg</th>\n",
       "      <th>thalach</th>\n",
       "      <th>exang</th>\n",
       "      <th>oldpeak</th>\n",
       "      <th>target</th>\n",
       "    </tr>\n",
       "  </thead>\n",
       "  <tbody>\n",
       "    <tr>\n",
       "      <th>90</th>\n",
       "      <td>49.0</td>\n",
       "      <td>0.0</td>\n",
       "      <td>2.0</td>\n",
       "      <td>110.0</td>\n",
       "      <td>251.0</td>\n",
       "      <td>0.0</td>\n",
       "      <td>0.0</td>\n",
       "      <td>160.0</td>\n",
       "      <td>0.0</td>\n",
       "      <td>0.0</td>\n",
       "      <td>0.0</td>\n",
       "    </tr>\n",
       "    <tr>\n",
       "      <th>163</th>\n",
       "      <td>49.0</td>\n",
       "      <td>0.0</td>\n",
       "      <td>2.0</td>\n",
       "      <td>110.0</td>\n",
       "      <td>251.0</td>\n",
       "      <td>0.0</td>\n",
       "      <td>0.0</td>\n",
       "      <td>160.0</td>\n",
       "      <td>0.0</td>\n",
       "      <td>0.0</td>\n",
       "      <td>0.0</td>\n",
       "    </tr>\n",
       "  </tbody>\n",
       "</table>\n",
       "</div>"
      ],
      "text/plain": [
       "      age  sex   cp  trestbps   chol  fbs  restecg  thalach  exang  oldpeak  \\\n",
       "90   49.0  0.0  2.0     110.0  251.0  0.0      0.0    160.0    0.0      0.0   \n",
       "163  49.0  0.0  2.0     110.0  251.0  0.0      0.0    160.0    0.0      0.0   \n",
       "\n",
       "     target  \n",
       "90      0.0  \n",
       "163     0.0  "
      ]
     },
     "execution_count": 16,
     "metadata": {},
     "output_type": "execute_result"
    }
   ],
   "source": [
    "# Melihat nilai duplikat\n",
    "df[df.duplicated(keep=False)]"
   ]
  },
  {
   "cell_type": "code",
   "execution_count": 17,
   "metadata": {},
   "outputs": [
    {
     "name": "stdout",
     "output_type": "stream",
     "text": [
      "Jumlah nilai duplikat:  0\n"
     ]
    }
   ],
   "source": [
    "# Menghapus nilai duplikat\n",
    "df.drop_duplicates(inplace=True)\n",
    "print(\"Jumlah nilai duplikat: \", df.duplicated().sum())"
   ]
  },
  {
   "cell_type": "markdown",
   "metadata": {},
   "source": [
    "#### - Melihat korelasi antar fitur\n"
   ]
  },
  {
   "cell_type": "code",
   "execution_count": 18,
   "metadata": {},
   "outputs": [
    {
     "data": {
      "image/png": "[encoded data removed]",
      "text/plain": [
       "<Figure size 1000x500 with 2 Axes>"
      ]
     },
     "metadata": {},
     "output_type": "display_data"
    }
   ],
   "source": [
    "import matplotlib.pyplot as plt\n",
    "import seaborn as sns\n",
    "\n",
    "# melihat korelasi antar kolom dengan heatmap\n",
    "plt.figure(figsize=(10, 5))\n",
    "sns.heatmap(df.corr(), annot=True, fmt='.3f', linewidths=0.5)\n",
    "plt.show()"
   ]
  },
  {
   "cell_type": "markdown",
   "metadata": {},
   "source": [
    "### **6. Konstruksi Data**\n"
   ]
  },
  {
   "cell_type": "markdown",
   "metadata": {},
   "source": [
    "#### - Menyesuaikan semua tipe data\n"
   ]
  },
  {
   "cell_type": "code",
   "execution_count": 19,
   "metadata": {},
   "outputs": [
    {
     "name": "stdout",
     "output_type": "stream",
     "text": [
      "<class 'pandas.core.frame.DataFrame'>\n",
      "Index: 293 entries, 0 to 293\n",
      "Data columns (total 11 columns):\n",
      " #   Column    Non-Null Count  Dtype  \n",
      "---  ------    --------------  -----  \n",
      " 0   age       293 non-null    float64\n",
      " 1   sex       293 non-null    float64\n",
      " 2   cp        293 non-null    float64\n",
      " 3   trestbps  293 non-null    float64\n",
      " 4   chol      293 non-null    float64\n",
      " 5   fbs       293 non-null    float64\n",
      " 6   restecg   293 non-null    float64\n",
      " 7   thalach   293 non-null    float64\n",
      " 8   exang     293 non-null    float64\n",
      " 9   oldpeak   293 non-null    float64\n",
      " 10  target    293 non-null    float64\n",
      "dtypes: float64(11)\n",
      "memory usage: 27.5 KB\n"
     ]
    }
   ],
   "source": [
    "df.info()"
   ]
  },
  {
   "cell_type": "markdown",
   "metadata": {},
   "source": [
    "Namun pada dataset ini sudah memiliki tipe data yang sesuai sehingga tidak perlu dilakukan penyesuaian kembali.\n"
   ]
  },
  {
   "cell_type": "markdown",
   "metadata": {},
   "source": [
    "#### - Menangani data tidak seimbang (Oversampling)\n"
   ]
  },
  {
   "cell_type": "code",
   "execution_count": 20,
   "metadata": {},
   "outputs": [
    {
     "data": {
      "text/plain": [
       "target\n",
       "0.0    187\n",
       "1.0     37\n",
       "3.0     28\n",
       "2.0     26\n",
       "4.0     15\n",
       "Name: count, dtype: int64"
      ]
     },
     "execution_count": 20,
     "metadata": {},
     "output_type": "execute_result"
    }
   ],
   "source": [
    "df['target'].value_counts()"
   ]
  },
  {
   "cell_type": "code",
   "execution_count": 21,
   "metadata": {},
   "outputs": [
    {
     "data": {
      "image/png": "[encoded data removed]",
      "text/plain": [
       "<Figure size 500x400 with 1 Axes>"
      ]
     },
     "metadata": {},
     "output_type": "display_data"
    }
   ],
   "source": [
    "# Menampilkan distribusi target\n",
    "plt.figure(figsize=(5, 4))\n",
    "df.value_counts('target').plot(kind='bar', color=['green', 'blue', 'red', 'yellow', 'green'])\n",
    "plt.title('Distribusi Target')\n",
    "plt.xticks(rotation=0)\n",
    "plt.show()"
   ]
  },
  {
   "cell_type": "code",
   "execution_count": 22,
   "metadata": {},
   "outputs": [],
   "source": [
    "from imblearn.over_sampling import SMOTE\n",
    "\n",
    "# Memisahkan atribut dan label\n",
    "X = df.drop('target', axis=1).values\n",
    "y = df.iloc[:, -1]\n",
    "\n",
    "# Melakukan oversampling dengan SMOTE\n",
    "smote = SMOTE(random_state=42)\n",
    "X_smote, y_smote = smote.fit_resample(X, y)"
   ]
  },
  {
   "cell_type": "code",
   "execution_count": 23,
   "metadata": {},
   "outputs": [
    {
     "data": {
      "image/png": "[encoded data removed]",
      "text/plain": [
       "<Figure size 1000x500 with 2 Axes>"
      ]
     },
     "metadata": {},
     "output_type": "display_data"
    }
   ],
   "source": [
    "plt.figure(figsize=(10, 5))\n",
    "\n",
    "# Sebelum SMOTE\n",
    "plt.subplot(1, 2, 1)\n",
    "before_smote = pd.DataFrame(data=y)\n",
    "before_smote.value_counts().plot(kind='bar', color=['green', 'blue', 'red', 'yellow', 'green'])\n",
    "plt.title('Target before over sampling with SMOTE')\n",
    "plt.xticks(rotation=0)\n",
    "\n",
    "# Setelah SMOTE\n",
    "plt.subplot(1, 2, 2)\n",
    "after_smote = pd.DataFrame(data=y_smote)\n",
    "after_smote.value_counts().plot(kind='bar', color=['green', 'blue', 'red', 'yellow', 'green'])\n",
    "plt.title('Target before over sampling with SMOTE')\n",
    "plt.xticks(rotation=0)\n",
    "\n",
    "plt.tight_layout()\n",
    "plt.show()"
   ]
  },
  {
   "cell_type": "code",
   "execution_count": 24,
   "metadata": {},
   "outputs": [
    {
     "data": {
      "text/html": [
       "<div>\n",
       "<style scoped>\n",
       "    .dataframe tbody tr th:only-of-type {\n",
       "        vertical-align: middle;\n",
       "    }\n",
       "\n",
       "    .dataframe tbody tr th {\n",
       "        vertical-align: top;\n",
       "    }\n",
       "\n",
       "    .dataframe thead th {\n",
       "        text-align: right;\n",
       "    }\n",
       "</style>\n",
       "<table border=\"1\" class=\"dataframe\">\n",
       "  <thead>\n",
       "    <tr style=\"text-align: right;\">\n",
       "      <th></th>\n",
       "      <th>age</th>\n",
       "      <th>sex</th>\n",
       "      <th>cp</th>\n",
       "      <th>trestbps</th>\n",
       "      <th>chol</th>\n",
       "      <th>fbs</th>\n",
       "      <th>restecg</th>\n",
       "      <th>thalach</th>\n",
       "      <th>exang</th>\n",
       "      <th>oldpeak</th>\n",
       "      <th>target</th>\n",
       "    </tr>\n",
       "  </thead>\n",
       "  <tbody>\n",
       "    <tr>\n",
       "      <th>count</th>\n",
       "      <td>293.000000</td>\n",
       "      <td>293.000000</td>\n",
       "      <td>293.000000</td>\n",
       "      <td>293.000000</td>\n",
       "      <td>293.000000</td>\n",
       "      <td>293.000000</td>\n",
       "      <td>293.000000</td>\n",
       "      <td>293.000000</td>\n",
       "      <td>293.000000</td>\n",
       "      <td>293.000000</td>\n",
       "      <td>293.000000</td>\n",
       "    </tr>\n",
       "    <tr>\n",
       "      <th>mean</th>\n",
       "      <td>47.822526</td>\n",
       "      <td>0.726962</td>\n",
       "      <td>2.986348</td>\n",
       "      <td>132.662116</td>\n",
       "      <td>250.860068</td>\n",
       "      <td>0.068259</td>\n",
       "      <td>0.218430</td>\n",
       "      <td>139.058020</td>\n",
       "      <td>0.303754</td>\n",
       "      <td>0.588055</td>\n",
       "      <td>0.795222</td>\n",
       "    </tr>\n",
       "    <tr>\n",
       "      <th>std</th>\n",
       "      <td>7.824875</td>\n",
       "      <td>0.446282</td>\n",
       "      <td>0.965049</td>\n",
       "      <td>17.576793</td>\n",
       "      <td>65.059069</td>\n",
       "      <td>0.252622</td>\n",
       "      <td>0.460868</td>\n",
       "      <td>23.558003</td>\n",
       "      <td>0.460665</td>\n",
       "      <td>0.909554</td>\n",
       "      <td>1.238251</td>\n",
       "    </tr>\n",
       "    <tr>\n",
       "      <th>min</th>\n",
       "      <td>28.000000</td>\n",
       "      <td>0.000000</td>\n",
       "      <td>1.000000</td>\n",
       "      <td>92.000000</td>\n",
       "      <td>85.000000</td>\n",
       "      <td>0.000000</td>\n",
       "      <td>0.000000</td>\n",
       "      <td>82.000000</td>\n",
       "      <td>0.000000</td>\n",
       "      <td>0.000000</td>\n",
       "      <td>0.000000</td>\n",
       "    </tr>\n",
       "    <tr>\n",
       "      <th>25%</th>\n",
       "      <td>42.000000</td>\n",
       "      <td>0.000000</td>\n",
       "      <td>2.000000</td>\n",
       "      <td>120.000000</td>\n",
       "      <td>211.000000</td>\n",
       "      <td>0.000000</td>\n",
       "      <td>0.000000</td>\n",
       "      <td>122.000000</td>\n",
       "      <td>0.000000</td>\n",
       "      <td>0.000000</td>\n",
       "      <td>0.000000</td>\n",
       "    </tr>\n",
       "    <tr>\n",
       "      <th>50%</th>\n",
       "      <td>49.000000</td>\n",
       "      <td>1.000000</td>\n",
       "      <td>3.000000</td>\n",
       "      <td>130.000000</td>\n",
       "      <td>248.000000</td>\n",
       "      <td>0.000000</td>\n",
       "      <td>0.000000</td>\n",
       "      <td>140.000000</td>\n",
       "      <td>0.000000</td>\n",
       "      <td>0.000000</td>\n",
       "      <td>0.000000</td>\n",
       "    </tr>\n",
       "    <tr>\n",
       "      <th>75%</th>\n",
       "      <td>54.000000</td>\n",
       "      <td>1.000000</td>\n",
       "      <td>4.000000</td>\n",
       "      <td>140.000000</td>\n",
       "      <td>277.000000</td>\n",
       "      <td>0.000000</td>\n",
       "      <td>0.000000</td>\n",
       "      <td>155.000000</td>\n",
       "      <td>1.000000</td>\n",
       "      <td>1.000000</td>\n",
       "      <td>1.000000</td>\n",
       "    </tr>\n",
       "    <tr>\n",
       "      <th>max</th>\n",
       "      <td>66.000000</td>\n",
       "      <td>1.000000</td>\n",
       "      <td>4.000000</td>\n",
       "      <td>200.000000</td>\n",
       "      <td>603.000000</td>\n",
       "      <td>1.000000</td>\n",
       "      <td>2.000000</td>\n",
       "      <td>190.000000</td>\n",
       "      <td>1.000000</td>\n",
       "      <td>5.000000</td>\n",
       "      <td>4.000000</td>\n",
       "    </tr>\n",
       "  </tbody>\n",
       "</table>\n",
       "</div>"
      ],
      "text/plain": [
       "              age         sex          cp    trestbps        chol         fbs  \\\n",
       "count  293.000000  293.000000  293.000000  293.000000  293.000000  293.000000   \n",
       "mean    47.822526    0.726962    2.986348  132.662116  250.860068    0.068259   \n",
       "std      7.824875    0.446282    0.965049   17.576793   65.059069    0.252622   \n",
       "min     28.000000    0.000000    1.000000   92.000000   85.000000    0.000000   \n",
       "25%     42.000000    0.000000    2.000000  120.000000  211.000000    0.000000   \n",
       "50%     49.000000    1.000000    3.000000  130.000000  248.000000    0.000000   \n",
       "75%     54.000000    1.000000    4.000000  140.000000  277.000000    0.000000   \n",
       "max     66.000000    1.000000    4.000000  200.000000  603.000000    1.000000   \n",
       "\n",
       "          restecg     thalach       exang     oldpeak      target  \n",
       "count  293.000000  293.000000  293.000000  293.000000  293.000000  \n",
       "mean     0.218430  139.058020    0.303754    0.588055    0.795222  \n",
       "std      0.460868   23.558003    0.460665    0.909554    1.238251  \n",
       "min      0.000000   82.000000    0.000000    0.000000    0.000000  \n",
       "25%      0.000000  122.000000    0.000000    0.000000    0.000000  \n",
       "50%      0.000000  140.000000    0.000000    0.000000    0.000000  \n",
       "75%      0.000000  155.000000    1.000000    1.000000    1.000000  \n",
       "max      2.000000  190.000000    1.000000    5.000000    4.000000  "
      ]
     },
     "execution_count": 24,
     "metadata": {},
     "output_type": "execute_result"
    }
   ],
   "source": [
    "df.describe()"
   ]
  },
  {
   "cell_type": "code",
   "execution_count": 25,
   "metadata": {},
   "outputs": [],
   "source": [
    "df.to_csv('datasets/cleaned_dataframe.csv', index=False)"
   ]
  },
  {
   "cell_type": "markdown",
   "metadata": {},
   "source": [
    "#### - Normalisasi (Normalization)\n"
   ]
  },
  {
   "cell_type": "code",
   "execution_count": 26,
   "metadata": {},
   "outputs": [
    {
     "data": {
      "text/html": [
       "<div>\n",
       "<style scoped>\n",
       "    .dataframe tbody tr th:only-of-type {\n",
       "        vertical-align: middle;\n",
       "    }\n",
       "\n",
       "    .dataframe tbody tr th {\n",
       "        vertical-align: top;\n",
       "    }\n",
       "\n",
       "    .dataframe thead th {\n",
       "        text-align: right;\n",
       "    }\n",
       "</style>\n",
       "<table border=\"1\" class=\"dataframe\">\n",
       "  <thead>\n",
       "    <tr style=\"text-align: right;\">\n",
       "      <th></th>\n",
       "      <th>0</th>\n",
       "      <th>1</th>\n",
       "      <th>2</th>\n",
       "      <th>3</th>\n",
       "      <th>4</th>\n",
       "      <th>5</th>\n",
       "      <th>6</th>\n",
       "      <th>7</th>\n",
       "      <th>8</th>\n",
       "      <th>9</th>\n",
       "    </tr>\n",
       "  </thead>\n",
       "  <tbody>\n",
       "    <tr>\n",
       "      <th>count</th>\n",
       "      <td>935.000000</td>\n",
       "      <td>935.000000</td>\n",
       "      <td>935.000000</td>\n",
       "      <td>935.000000</td>\n",
       "      <td>935.000000</td>\n",
       "      <td>935.000000</td>\n",
       "      <td>935.000000</td>\n",
       "      <td>935.000000</td>\n",
       "      <td>935.000000</td>\n",
       "      <td>935.000000</td>\n",
       "    </tr>\n",
       "    <tr>\n",
       "      <th>mean</th>\n",
       "      <td>0.563739</td>\n",
       "      <td>0.842507</td>\n",
       "      <td>0.818224</td>\n",
       "      <td>0.403413</td>\n",
       "      <td>0.341027</td>\n",
       "      <td>0.094277</td>\n",
       "      <td>0.117938</td>\n",
       "      <td>0.453354</td>\n",
       "      <td>0.598398</td>\n",
       "      <td>0.227015</td>\n",
       "    </tr>\n",
       "    <tr>\n",
       "      <th>std</th>\n",
       "      <td>0.174873</td>\n",
       "      <td>0.332492</td>\n",
       "      <td>0.274211</td>\n",
       "      <td>0.147493</td>\n",
       "      <td>0.110990</td>\n",
       "      <td>0.252030</td>\n",
       "      <td>0.199527</td>\n",
       "      <td>0.197232</td>\n",
       "      <td>0.450288</td>\n",
       "      <td>0.201293</td>\n",
       "    </tr>\n",
       "    <tr>\n",
       "      <th>min</th>\n",
       "      <td>0.000000</td>\n",
       "      <td>0.000000</td>\n",
       "      <td>0.000000</td>\n",
       "      <td>0.000000</td>\n",
       "      <td>0.000000</td>\n",
       "      <td>0.000000</td>\n",
       "      <td>0.000000</td>\n",
       "      <td>0.000000</td>\n",
       "      <td>0.000000</td>\n",
       "      <td>0.000000</td>\n",
       "    </tr>\n",
       "    <tr>\n",
       "      <th>25%</th>\n",
       "      <td>0.473283</td>\n",
       "      <td>1.000000</td>\n",
       "      <td>0.666667</td>\n",
       "      <td>0.305556</td>\n",
       "      <td>0.267954</td>\n",
       "      <td>0.000000</td>\n",
       "      <td>0.000000</td>\n",
       "      <td>0.312720</td>\n",
       "      <td>0.000000</td>\n",
       "      <td>0.000000</td>\n",
       "    </tr>\n",
       "    <tr>\n",
       "      <th>50%</th>\n",
       "      <td>0.578947</td>\n",
       "      <td>1.000000</td>\n",
       "      <td>1.000000</td>\n",
       "      <td>0.387952</td>\n",
       "      <td>0.330240</td>\n",
       "      <td>0.000000</td>\n",
       "      <td>0.000000</td>\n",
       "      <td>0.440606</td>\n",
       "      <td>0.962447</td>\n",
       "      <td>0.200000</td>\n",
       "    </tr>\n",
       "    <tr>\n",
       "      <th>75%</th>\n",
       "      <td>0.683363</td>\n",
       "      <td>1.000000</td>\n",
       "      <td>1.000000</td>\n",
       "      <td>0.487481</td>\n",
       "      <td>0.393811</td>\n",
       "      <td>0.000000</td>\n",
       "      <td>0.201473</td>\n",
       "      <td>0.593629</td>\n",
       "      <td>1.000000</td>\n",
       "      <td>0.386166</td>\n",
       "    </tr>\n",
       "    <tr>\n",
       "      <th>max</th>\n",
       "      <td>1.000000</td>\n",
       "      <td>1.000000</td>\n",
       "      <td>1.000000</td>\n",
       "      <td>1.000000</td>\n",
       "      <td>1.000000</td>\n",
       "      <td>1.000000</td>\n",
       "      <td>1.000000</td>\n",
       "      <td>1.000000</td>\n",
       "      <td>1.000000</td>\n",
       "      <td>1.000000</td>\n",
       "    </tr>\n",
       "  </tbody>\n",
       "</table>\n",
       "</div>"
      ],
      "text/plain": [
       "                0           1           2           3           4           5  \\\n",
       "count  935.000000  935.000000  935.000000  935.000000  935.000000  935.000000   \n",
       "mean     0.563739    0.842507    0.818224    0.403413    0.341027    0.094277   \n",
       "std      0.174873    0.332492    0.274211    0.147493    0.110990    0.252030   \n",
       "min      0.000000    0.000000    0.000000    0.000000    0.000000    0.000000   \n",
       "25%      0.473283    1.000000    0.666667    0.305556    0.267954    0.000000   \n",
       "50%      0.578947    1.000000    1.000000    0.387952    0.330240    0.000000   \n",
       "75%      0.683363    1.000000    1.000000    0.487481    0.393811    0.000000   \n",
       "max      1.000000    1.000000    1.000000    1.000000    1.000000    1.000000   \n",
       "\n",
       "                6           7           8           9  \n",
       "count  935.000000  935.000000  935.000000  935.000000  \n",
       "mean     0.117938    0.453354    0.598398    0.227015  \n",
       "std      0.199527    0.197232    0.450288    0.201293  \n",
       "min      0.000000    0.000000    0.000000    0.000000  \n",
       "25%      0.000000    0.312720    0.000000    0.000000  \n",
       "50%      0.000000    0.440606    0.962447    0.200000  \n",
       "75%      0.201473    0.593629    1.000000    0.386166  \n",
       "max      1.000000    1.000000    1.000000    1.000000  "
      ]
     },
     "execution_count": 26,
     "metadata": {},
     "output_type": "execute_result"
    }
   ],
   "source": [
    "from sklearn.preprocessing import MinMaxScaler\n",
    "sc = MinMaxScaler()\n",
    "X_smote_normalized = sc.fit_transform(X_smote)\n",
    "\n",
    "df_smote_normalized = pd.DataFrame(X_smote_normalized)\n",
    "df_smote_normalized.describe()"
   ]
  },
  {
   "cell_type": "markdown",
   "metadata": {},
   "source": [
    "### 7. Pemodelan\n"
   ]
  },
  {
   "cell_type": "markdown",
   "metadata": {},
   "source": [
    "#### - Dataset Splitting\n"
   ]
  },
  {
   "cell_type": "code",
   "execution_count": 27,
   "metadata": {},
   "outputs": [],
   "source": [
    "from sklearn.model_selection import train_test_split\n",
    "from sklearn.metrics import accuracy_score, classification_report, confusion_matrix\n",
    "import pickle\n",
    "\n",
    "\n",
    "# Splitting the dataset into the Training set and Test set (over sampling)\n",
    "X_train, X_test, y_train, y_test = train_test_split(X_smote, y_smote, test_size=0.2, random_state=42, stratify=y_smote)\n",
    "\n",
    "# Splitting the dataset into the Training set and Test set (over sampling + normalization)\n",
    "X_train_normalized, X_test_normalized, y_train_normalized, y_test_normalized = train_test_split(X_smote_normalized, y_smote, test_size=0.2, random_state=42, stratify=y_smote)"
   ]
  },
  {
   "cell_type": "markdown",
   "metadata": {},
   "source": [
    "#### - Modeling with K-Nearest Neighbors (KNN)\n"
   ]
  },
  {
   "cell_type": "code",
   "execution_count": 28,
   "metadata": {},
   "outputs": [
    {
     "name": "stdout",
     "output_type": "stream",
     "text": [
      "K-Nearest Neighbors (KNN) Model\n",
      "(Over Sampling)\n",
      "Akurasi:  0.754\n",
      "Classification Report: \n",
      "               precision    recall  f1-score   support\n",
      "\n",
      "         0.0       0.65      0.39      0.49        38\n",
      "         1.0       0.73      0.81      0.77        37\n",
      "         2.0       0.80      0.86      0.83        37\n",
      "         3.0       0.77      0.87      0.81        38\n",
      "         4.0       0.78      0.84      0.81        37\n",
      "\n",
      "    accuracy                           0.75       187\n",
      "   macro avg       0.75      0.76      0.74       187\n",
      "weighted avg       0.74      0.75      0.74       187\n",
      "\n",
      "(Over Sampling + Normalization)\n",
      "Akurasi:  0.861\n",
      "Classification Report: \n",
      "               precision    recall  f1-score   support\n",
      "\n",
      "         0.0       0.88      0.76      0.82        38\n",
      "         1.0       0.78      0.84      0.81        37\n",
      "         2.0       0.87      0.92      0.89        37\n",
      "         3.0       0.92      0.87      0.89        38\n",
      "         4.0       0.87      0.92      0.89        37\n",
      "\n",
      "    accuracy                           0.86       187\n",
      "   macro avg       0.86      0.86      0.86       187\n",
      "weighted avg       0.86      0.86      0.86       187\n",
      "\n"
     ]
    }
   ],
   "source": [
    "from sklearn.neighbors import KNeighborsClassifier\n",
    "\n",
    "# KKNN Model (over sampling)\n",
    "knn = KNeighborsClassifier(n_neighbors=3)\n",
    "knn.fit(X_train, y_train)\n",
    "pickle.dump(knn, open('models/knn.pkl', 'wb'))\n",
    "y_pred_knn = knn.predict(X_test)\n",
    "\n",
    "print(\"K-Nearest Neighbors (KNN) Model\")\n",
    "print(\"(Over Sampling)\")\n",
    "print(\"Akurasi: \", format(accuracy_score(y_test, y_pred_knn), '.3f'))\n",
    "print(\"Classification Report: \\n\", classification_report(y_test, y_pred_knn))\n",
    "\n",
    "# KKNN Model (over sampling + normalization)\n",
    "knn_normalization = KNeighborsClassifier(n_neighbors=3)\n",
    "knn_normalization.fit(X_train_normalized, y_train_normalized)\n",
    "pickle.dump(knn_normalization, open('models/knn_normalization.pkl', 'wb'))\n",
    "y_pred_knn_normalization = knn_normalization.predict(X_test_normalized)\n",
    "\n",
    "print(\"(Over Sampling + Normalization)\")\n",
    "print(\"Akurasi: \", format(accuracy_score(y_test_normalized, y_pred_knn_normalization), '.3f'))\n",
    "print(\"Classification Report: \\n\", classification_report(y_test_normalized, y_pred_knn_normalization))"
   ]
  },
  {
   "cell_type": "code",
   "execution_count": 29,
   "metadata": {},
   "outputs": [
    {
     "data": {
      "image/png": "[encoded data removed]",
      "text/plain": [
       "<Figure size 1000x500 with 4 Axes>"
      ]
     },
     "metadata": {},
     "output_type": "display_data"
    }
   ],
   "source": [
    "plt.figure(figsize=(10, 5))\n",
    "\n",
    "# Confusion Matrix (over sampling)\n",
    "cm = confusion_matrix(y_test, y_pred_knn)\n",
    "plt.subplot(1, 2, 1)\n",
    "sns.heatmap(cm, annot=True, fmt=\"d\", cmap=\"Blues\")\n",
    "plt.title('Confusion Matrix KNN (over sampling)')\n",
    "plt.xlabel('True')\n",
    "plt.ylabel('Predict')\n",
    "\n",
    "# Confusion Matrix (over sampling + normalization)\n",
    "cm_normalization = confusion_matrix(y_test_normalized, y_pred_knn_normalization)\n",
    "plt.subplot(1, 2, 2)\n",
    "sns.heatmap(cm_normalization, annot=True, fmt=\"d\", cmap=\"Blues\")\n",
    "plt.title('Confusion Matrix KNN (over sampling + normalization)')\n",
    "plt.xlabel('True')\n",
    "plt.ylabel('Predict')\n",
    "\n",
    "plt.tight_layout()\n",
    "plt.show()"
   ]
  },
  {
   "cell_type": "markdown",
   "metadata": {},
   "source": [
    "#### - Modeling with Random Forest (RFC)\n"
   ]
  },
  {
   "cell_type": "code",
   "execution_count": 30,
   "metadata": {},
   "outputs": [
    {
     "name": "stdout",
     "output_type": "stream",
     "text": [
      "Random Forest Model\n",
      "(Over Sampling)\n",
      "Akurasi:  0.920\n",
      "Classification Report: \n",
      "               precision    recall  f1-score   support\n",
      "\n",
      "         0.0       0.94      0.89      0.92        38\n",
      "         1.0       0.85      0.92      0.88        37\n",
      "         2.0       0.89      0.89      0.89        37\n",
      "         3.0       0.95      0.97      0.96        38\n",
      "         4.0       0.97      0.92      0.94        37\n",
      "\n",
      "    accuracy                           0.92       187\n",
      "   macro avg       0.92      0.92      0.92       187\n",
      "weighted avg       0.92      0.92      0.92       187\n",
      "\n",
      "(Over Sampling + Normalization)\n",
      "Akurasi:  0.920\n",
      "Classification Report: \n",
      "               precision    recall  f1-score   support\n",
      "\n",
      "         0.0       0.94      0.89      0.92        38\n",
      "         1.0       0.85      0.92      0.88        37\n",
      "         2.0       0.89      0.89      0.89        37\n",
      "         3.0       0.95      0.97      0.96        38\n",
      "         4.0       0.97      0.92      0.94        37\n",
      "\n",
      "    accuracy                           0.92       187\n",
      "   macro avg       0.92      0.92      0.92       187\n",
      "weighted avg       0.92      0.92      0.92       187\n",
      "\n"
     ]
    }
   ],
   "source": [
    "from sklearn.ensemble import RandomForestClassifier\n",
    "\n",
    "# RFC Model (over sampling)\n",
    "rfc = RandomForestClassifier(random_state=42)\n",
    "rfc.fit(X_train, y_train)\n",
    "pickle.dump(rfc, open('models/rfc.pkl', 'wb'))\n",
    "y_pred_rfc = rfc.predict(X_test)\n",
    "\n",
    "print(\"Random Forest Model\")\n",
    "print(\"(Over Sampling)\")\n",
    "print(\"Akurasi: \", format(accuracy_score(y_test, y_pred_rfc), '.3f'))\n",
    "print(\"Classification Report: \\n\", classification_report(y_test, y_pred_rfc))\n",
    "\n",
    "# RFC Model (over sampling + normalization)\n",
    "rfc_normalization = RandomForestClassifier(random_state=42)\n",
    "rfc_normalization.fit(X_train_normalized, y_train_normalized)\n",
    "pickle.dump(rfc_normalization, open('models/rfc_normalization.pkl', 'wb'))\n",
    "y_pred_rfc_normalization = rfc_normalization.predict(X_test_normalized)\n",
    "\n",
    "print(\"(Over Sampling + Normalization)\")\n",
    "print(\"Akurasi: \", format(accuracy_score(y_test_normalized, y_pred_rfc_normalization), '.3f'))\n",
    "print(\"Classification Report: \\n\", classification_report(y_test_normalized, y_pred_rfc_normalization))"
   ]
  },
  {
   "cell_type": "code",
   "execution_count": 31,
   "metadata": {},
   "outputs": [
    {
     "data": {
      "image/png": "[encoded data removed]",
      "text/plain": [
       "<Figure size 1000x500 with 4 Axes>"
      ]
     },
     "metadata": {},
     "output_type": "display_data"
    }
   ],
   "source": [
    "plt.figure(figsize=(10, 5))\n",
    "\n",
    "# Confusion Matrix (over sampling)\n",
    "cm = confusion_matrix(y_test, y_pred_rfc)\n",
    "plt.subplot(1, 2, 1)\n",
    "sns.heatmap(cm, annot=True, fmt=\"d\", cmap=\"Blues\")\n",
    "plt.title('Confusion Matrix RFC (over sampling)')\n",
    "plt.xlabel('True')\n",
    "plt.ylabel('Predict')\n",
    "\n",
    "# Confusion Matrix (over sampling + normalization)\n",
    "cm_normalization = confusion_matrix(y_test_normalized, y_pred_rfc_normalization)\n",
    "plt.subplot(1, 2, 2)\n",
    "sns.heatmap(cm_normalization, annot=True, fmt=\"d\", cmap=\"Blues\")\n",
    "plt.title('Confusion Matrix RFC (over sampling + normalization)')\n",
    "plt.xlabel('True')\n",
    "plt.ylabel('Predict')\n",
    "\n",
    "plt.tight_layout()\n",
    "plt.show()"
   ]
  },
  {
   "cell_type": "markdown",
   "metadata": {},
   "source": [
    "#### - Modeling with XGBoost (XGB)\n"
   ]
  },
  {
   "cell_type": "code",
   "execution_count": 32,
   "metadata": {},
   "outputs": [
    {
     "name": "stdout",
     "output_type": "stream",
     "text": [
      "XGBoost Model\n",
      "(Over Sampling)\n",
      "Akurasi:  0.904\n",
      "Classification Report: \n",
      "               precision    recall  f1-score   support\n",
      "\n",
      "         0.0       0.88      0.92      0.90        38\n",
      "         1.0       0.91      0.81      0.86        37\n",
      "         2.0       0.87      0.89      0.88        37\n",
      "         3.0       0.93      0.97      0.95        38\n",
      "         4.0       0.94      0.92      0.93        37\n",
      "\n",
      "    accuracy                           0.90       187\n",
      "   macro avg       0.90      0.90      0.90       187\n",
      "weighted avg       0.90      0.90      0.90       187\n",
      "\n",
      "(Over Sampling + Normalization)\n",
      "Akurasi:  0.904\n",
      "Classification Report: \n",
      "               precision    recall  f1-score   support\n",
      "\n",
      "         0.0       0.88      0.92      0.90        38\n",
      "         1.0       0.91      0.81      0.86        37\n",
      "         2.0       0.87      0.89      0.88        37\n",
      "         3.0       0.93      0.97      0.95        38\n",
      "         4.0       0.94      0.92      0.93        37\n",
      "\n",
      "    accuracy                           0.90       187\n",
      "   macro avg       0.90      0.90      0.90       187\n",
      "weighted avg       0.90      0.90      0.90       187\n",
      "\n"
     ]
    }
   ],
   "source": [
    "from xgboost import XGBClassifier\n",
    "\n",
    "# XGB Model (over sampling)\n",
    "xgb = XGBClassifier(random_state=42)\n",
    "xgb.fit(X_train, y_train)\n",
    "pickle.dump(xgb, open('models/xgb.pkl', 'wb'))\n",
    "y_pred_xgb = xgb.predict(X_test)\n",
    "\n",
    "print(\"XGBoost Model\")\n",
    "print(\"(Over Sampling)\")\n",
    "print(\"Akurasi: \", format(accuracy_score(y_test, y_pred_xgb), '.3f'))\n",
    "print(\"Classification Report: \\n\", classification_report(y_test, y_pred_xgb))\n",
    "\n",
    "# XGB Model (over sampling + normalization)\n",
    "xgb_normalization = XGBClassifier(random_state=42)\n",
    "xgb_normalization.fit(X_train_normalized, y_train_normalized)\n",
    "pickle.dump(xgb_normalization, open('models/xgb_normalization.pkl', 'wb'))\n",
    "y_pred_xgb_normalization = xgb_normalization.predict(X_test_normalized)\n",
    "\n",
    "print(\"(Over Sampling + Normalization)\")\n",
    "print(\"Akurasi: \", format(accuracy_score(y_test_normalized, y_pred_xgb_normalization), '.3f'))\n",
    "print(\"Classification Report: \\n\", classification_report(y_test_normalized, y_pred_xgb_normalization))"
   ]
  },
  {
   "cell_type": "code",
   "execution_count": 33,
   "metadata": {},
   "outputs": [
    {
     "data": {
      "image/png": "[encoded data removed]",
      "text/plain": [
       "<Figure size 1000x500 with 4 Axes>"
      ]
     },
     "metadata": {},
     "output_type": "display_data"
    }
   ],
   "source": [
    "plt.figure(figsize=(10, 5))\n",
    "\n",
    "# Confusion Matrix (over sampling)\n",
    "cm = confusion_matrix(y_test, y_pred_xgb)\n",
    "plt.subplot(1, 2, 1)\n",
    "sns.heatmap(cm, annot=True, fmt=\"d\", cmap=\"Blues\")\n",
    "plt.title('Confusion Matrix XGB (over sampling)')\n",
    "plt.xlabel('True')\n",
    "plt.ylabel('Predict')\n",
    "\n",
    "# Confusion Matrix (over sampling + normalization)\n",
    "cm_normalization = confusion_matrix(y_test_normalized, y_pred_xgb_normalization)\n",
    "plt.subplot(1, 2, 2)\n",
    "sns.heatmap(cm_normalization, annot=True, fmt=\"d\", cmap=\"Blues\")\n",
    "plt.title('Confusion Matrix XGB (over sampling + normalization)')\n",
    "plt.xlabel('True')\n",
    "plt.ylabel('Predict')\n",
    "\n",
    "plt.tight_layout()\n",
    "plt.show()"
   ]
  },
  {
   "cell_type": "markdown",
   "metadata": {},
   "source": [
    "### 8. Evaluasi\n"
   ]
  },
  {
   "cell_type": "markdown",
   "metadata": {},
   "source": [
    "#### - Komporasi Model (Oversampling)\n"
   ]
  },
  {
   "cell_type": "code",
   "execution_count": 34,
   "metadata": {},
   "outputs": [
    {
     "name": "stdout",
     "output_type": "stream",
     "text": [
      "Model Comparison (Over Sampling)\n"
     ]
    },
    {
     "data": {
      "text/html": [
       "<div>\n",
       "<style scoped>\n",
       "    .dataframe tbody tr th:only-of-type {\n",
       "        vertical-align: middle;\n",
       "    }\n",
       "\n",
       "    .dataframe tbody tr th {\n",
       "        vertical-align: top;\n",
       "    }\n",
       "\n",
       "    .dataframe thead th {\n",
       "        text-align: right;\n",
       "    }\n",
       "</style>\n",
       "<table border=\"1\" class=\"dataframe\">\n",
       "  <thead>\n",
       "    <tr style=\"text-align: right;\">\n",
       "      <th></th>\n",
       "      <th>Model</th>\n",
       "      <th>Akurasi</th>\n",
       "    </tr>\n",
       "  </thead>\n",
       "  <tbody>\n",
       "    <tr>\n",
       "      <th>0</th>\n",
       "      <td>KNN</td>\n",
       "      <td>75.4</td>\n",
       "    </tr>\n",
       "    <tr>\n",
       "      <th>1</th>\n",
       "      <td>RFC</td>\n",
       "      <td>92.0</td>\n",
       "    </tr>\n",
       "    <tr>\n",
       "      <th>2</th>\n",
       "      <td>XGB</td>\n",
       "      <td>90.4</td>\n",
       "    </tr>\n",
       "  </tbody>\n",
       "</table>\n",
       "</div>"
      ],
      "text/plain": [
       "  Model  Akurasi\n",
       "0   KNN     75.4\n",
       "1   RFC     92.0\n",
       "2   XGB     90.4"
      ]
     },
     "execution_count": 34,
     "metadata": {},
     "output_type": "execute_result"
    }
   ],
   "source": [
    "model_comp1 = pd.DataFrame({\n",
    "  'Model': ['KNN', 'RFC', 'XGB'],\n",
    "  'Akurasi': [round(accuracy_score(y_test, y_pred_knn)*100, 1), round(accuracy_score(y_test, y_pred_rfc)*100, 1), round(accuracy_score(y_test, y_pred_xgb)*100, 1)],\n",
    "})\n",
    "print(\"Model Comparison (Over Sampling)\")\n",
    "model_comp1.head()"
   ]
  },
  {
   "cell_type": "code",
   "execution_count": 35,
   "metadata": {},
   "outputs": [
    {
     "data": {
      "image/png": "[encoded data removed]",
      "text/plain": [
       "<Figure size 640x480 with 1 Axes>"
      ]
     },
     "metadata": {},
     "output_type": "display_data"
    }
   ],
   "source": [
    "bars = plt.bar(model_comp1['Model'], model_comp1['Akurasi'])\n",
    "plt.xlabel('Model')\n",
    "plt.ylabel('Akurasi (%)')\n",
    "plt.title('Over Sampling Model Comparison')\n",
    "for bar in bars:\n",
    "  yval = bar.get_height()\n",
    "  plt.text(bar.get_x() + bar.get_width()/2, yval, round(yval, 2), ha='center', va='bottom')\n",
    "plt.show()"
   ]
  },
  {
   "cell_type": "markdown",
   "metadata": {},
   "source": [
    "#### - Komparasi Model (Oversampling + Normalization)\n"
   ]
  },
  {
   "cell_type": "code",
   "execution_count": 36,
   "metadata": {},
   "outputs": [
    {
     "name": "stdout",
     "output_type": "stream",
     "text": [
      "Model Comparison (Over Sampling + Normalization)\n"
     ]
    },
    {
     "data": {
      "text/html": [
       "<div>\n",
       "<style scoped>\n",
       "    .dataframe tbody tr th:only-of-type {\n",
       "        vertical-align: middle;\n",
       "    }\n",
       "\n",
       "    .dataframe tbody tr th {\n",
       "        vertical-align: top;\n",
       "    }\n",
       "\n",
       "    .dataframe thead th {\n",
       "        text-align: right;\n",
       "    }\n",
       "</style>\n",
       "<table border=\"1\" class=\"dataframe\">\n",
       "  <thead>\n",
       "    <tr style=\"text-align: right;\">\n",
       "      <th></th>\n",
       "      <th>Model</th>\n",
       "      <th>Akurasi</th>\n",
       "    </tr>\n",
       "  </thead>\n",
       "  <tbody>\n",
       "    <tr>\n",
       "      <th>0</th>\n",
       "      <td>KNN</td>\n",
       "      <td>86.1</td>\n",
       "    </tr>\n",
       "    <tr>\n",
       "      <th>1</th>\n",
       "      <td>RFC</td>\n",
       "      <td>92.0</td>\n",
       "    </tr>\n",
       "    <tr>\n",
       "      <th>2</th>\n",
       "      <td>XGB</td>\n",
       "      <td>90.4</td>\n",
       "    </tr>\n",
       "  </tbody>\n",
       "</table>\n",
       "</div>"
      ],
      "text/plain": [
       "  Model  Akurasi\n",
       "0   KNN     86.1\n",
       "1   RFC     92.0\n",
       "2   XGB     90.4"
      ]
     },
     "execution_count": 36,
     "metadata": {},
     "output_type": "execute_result"
    }
   ],
   "source": [
    "model_comp2 = pd.DataFrame({\n",
    "  'Model': ['KNN', 'RFC', 'XGB'],\n",
    "  'Akurasi': [round(accuracy_score(y_test, y_pred_knn_normalization)*100, 1), round(accuracy_score(y_test, y_pred_rfc_normalization)*100, 1), round(accuracy_score(y_test, y_pred_xgb_normalization)*100, 1)],\n",
    "})\n",
    "print(\"Model Comparison (Over Sampling + Normalization)\")\n",
    "model_comp2.head()"
   ]
  },
  {
   "cell_type": "code",
   "execution_count": 37,
   "metadata": {},
   "outputs": [
    {
     "data": {
      "image/png": "[encoded data removed]",
      "text/plain": [
       "<Figure size 640x480 with 1 Axes>"
      ]
     },
     "metadata": {},
     "output_type": "display_data"
    }
   ],
   "source": [
    "bars = plt.bar(model_comp2['Model'], model_comp2['Akurasi'])\n",
    "plt.xlabel('Model')\n",
    "plt.ylabel('Akurasi (%)')\n",
    "plt.title('Over Sampling Model Comparison')\n",
    "for bar in bars:\n",
    "  yval = bar.get_height()\n",
    "  plt.text(bar.get_x() + bar.get_width()/2, yval, round(yval, 2), ha='center', va='bottom')\n",
    "plt.show()"
   ]
  },
  {
   "cell_type": "markdown",
   "metadata": {},
   "source": [
    "### 9. Deployment\n"
   ]
  },
  {
   "cell_type": "markdown",
   "metadata": {},
   "source": [
    "Dari hasil evaluasi, deployment dilakukan menggunakan model **Random Forest** yang memiliki akurasi tertinggi yaitu **92.0 %** dan menggunakan streamlit yang dapat diakses pada [Prediksi Penyakit Jantung](https://prediksi-penyakit-jantung-capstone.streamlit.app/) atau tersimpan di repository [heart-disease-capstone](https://github.com/maoelanaAs/heart-disease-capstone)\n"
   ]
  },
  {
   "cell_type": "markdown",
   "metadata": {},
   "source": [
    "### 10. Kesimpulan\n"
   ]
  },
  {
   "cell_type": "markdown",
   "metadata": {},
   "source": [
    "Tahap akhir dari project ini adalah kesimpulan. Berdasarkan project yang sudah dilakukan, dapat disimpulkan bahwa model **Random Forest** dengan penerapan _oversampling_ dan _normalization_, menunjukkan akurasi paling tinggi mencapai **92.0 %**. Hasil ini menunjukkan bahwa metode tersebut dapat memprediksi keberadaan penyakit jantung berdasarkan sejumlah atribut pasien dengan baik.\n"
   ]
  }
 ],
 "metadata": {
  "kernelspec": {
   "display_name": "Python 3",
   "language": "python",
   "name": "python3"
  },
  "language_info": {
   "codemirror_mode": {
    "name": "ipython",
    "version": 3
   },
   "file_extension": ".py",
   "mimetype": "text/x-python",
   "name": "python",
   "nbconvert_exporter": "python",
   "pygments_lexer": "ipython3",
   "version": "3.12.3"
  }
 },
 "nbformat": 4,
 "nbformat_minor": 2
}
